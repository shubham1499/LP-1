{
  "nbformat": 4,
  "nbformat_minor": 0,
  "metadata": {
    "colab": {
      "name": "BE1_LP1_P1_41106_DA_R2_Apoorv_Dixit.ipynb",
      "provenance": []
    },
    "kernelspec": {
      "name": "python3",
      "display_name": "Python 3"
    }
  },
  "cells": [
    {
      "cell_type": "markdown",
      "metadata": {
        "id": "rwnXavUPjT-X",
        "colab_type": "text"
      },
      "source": [
        "#DA R2 : Naive Bayes algorithm for classification on  Pima Indians Diabetes dataset."
      ]
    },
    {
      "cell_type": "markdown",
      "metadata": {
        "id": "mRgbq6x0GODX",
        "colab_type": "text"
      },
      "source": [
        "##Mathematical Model"
      ]
    },
    {
      "cell_type": "markdown",
      "metadata": {
        "id": "xtn1fsgzjdbp",
        "colab_type": "text"
      },
      "source": [
        "Let S be the system set:\n",
        "\n",
        "S = {s; e;X; Y; Fme;DD;NDD; Fc; Sc}\n",
        "where Dataset is loaded into the dataframe\n",
        "\n",
        "s=start state \n",
        "\n",
        "e=end state i.e. classification of samples from the test dataset\n",
        "\n",
        "X=set of inputs\n",
        "X = {X1}\n",
        "    where X1 =  Pima Indians Diabetes dataset (768 records, 8 columns)\n",
        "\n",
        "Y=set of outputs\n",
        "  Y = {Y1, Y2}\n",
        "1. Confusion Matrix\n",
        "2. Accuracy Score\n",
        "  \n",
        "Fme is the set of main functions\n",
        "  Fme = {f1,f2,f3, f4} where\n",
        "1. f1 = function to load dataset into dataframe\n",
        "2. f2 = function to split dataset into training and test datasets\n",
        "3. f3 = function to Normalize dataset\n",
        "4. f4 = function to invoke Naive Bayes classifier\n",
        "    \n",
        "DD = Deterministic Data\n",
        "  PIMA Indians diabetes dataset\n",
        "\n",
        "NDD = Non-deterministic data\n",
        "  null values in the dataset \n",
        "\n",
        "Fc = failure case\n",
        "  Failed to classify the record into correct class "
      ]
    },
    {
      "cell_type": "markdown",
      "metadata": {
        "id": "iMRw_YYIHH6c",
        "colab_type": "text"
      },
      "source": [
        "##Dataset Description"
      ]
    },
    {
      "cell_type": "markdown",
      "metadata": {
        "id": "6cVk4jfzbcgM",
        "colab_type": "text"
      },
      "source": [
        "This dataset describes the medical records for Pima Indians and whether or not each patient will have an onset of diabetes within five years.\n",
        "\n",
        "Fields description follow:\n",
        "1. Pregnancies = Number of times pregnant\n",
        "2. Glucose = Plasma glucose concentration\n",
        "3. BloodPressure = Diastolic blood pressure (mm Hg)\n",
        "4. SkinThickness = Triceps skin fold thickness (mm)\n",
        "5. Insulin = 2-Hour serum insulin (mu U/ml)\n",
        "6. BMI = Body mass index (weight in kg/(height in m)^2)\n",
        "7. DiabetesPedigreeFunction = Diabetes pedigree function\n",
        "8. Age = Age (years)\n",
        "9. Outcome = Class variable (1:tested positive for diabetes, 0: tested negative for diabetes)"
      ]
    },
    {
      "cell_type": "markdown",
      "metadata": {
        "id": "DlcaMSk3GT8b",
        "colab_type": "text"
      },
      "source": [
        "##Flowchart\n",
        "\n",
        "![R2flowchart.png](data:image/png;base64,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)"
      ]
    },
    {
      "cell_type": "markdown",
      "metadata": {
        "id": "S-CthTanHQyd",
        "colab_type": "text"
      },
      "source": [
        "##Import Libraries"
      ]
    },
    {
      "cell_type": "code",
      "metadata": {
        "id": "nvrBUdVXYk7a",
        "colab_type": "code",
        "colab": {}
      },
      "source": [
        "#Import Statements\n",
        "\n",
        "import pandas as pd\n",
        "from sklearn.naive_bayes import GaussianNB\n",
        "from sklearn.model_selection import train_test_split\n",
        "from sklearn.metrics import accuracy_score, confusion_matrix\n",
        "from sklearn.preprocessing import StandardScaler"
      ],
      "execution_count": null,
      "outputs": []
    },
    {
      "cell_type": "markdown",
      "metadata": {
        "id": "87qEpdpxHT7U",
        "colab_type": "text"
      },
      "source": [
        "##Mounting the Drive"
      ]
    },
    {
      "cell_type": "code",
      "metadata": {
        "id": "gpuMjaSCmsfV",
        "colab_type": "code",
        "colab": {
          "base_uri": "https://localhost:8080/",
          "height": 33
        },
        "outputId": "a5cf03d7-c1d6-40a0-fe00-2d1ffab48d94"
      },
      "source": [
        "#Mounting the drive\n",
        "\n",
        "from google.colab import drive\n",
        "drive.mount('/content/drive')"
      ],
      "execution_count": null,
      "outputs": [
        {
          "output_type": "stream",
          "text": [
            "Drive already mounted at /content/drive; to attempt to forcibly remount, call drive.mount(\"/content/drive\", force_remount=True).\n"
          ],
          "name": "stdout"
        }
      ]
    },
    {
      "cell_type": "markdown",
      "metadata": {
        "id": "jU_l-QI4HWnJ",
        "colab_type": "text"
      },
      "source": [
        "##Load Dataset"
      ]
    },
    {
      "cell_type": "code",
      "metadata": {
        "id": "m8aKYLt0a9yU",
        "colab_type": "code",
        "colab": {}
      },
      "source": [
        "#Load the Dataset\n",
        "\n",
        "df = pd.read_csv('/content/drive/My Drive/pima_indians/diabetes.csv')\n",
        "y = df['Outcome']\n",
        "x = df.drop(['Outcome'],axis=1)"
      ],
      "execution_count": null,
      "outputs": []
    },
    {
      "cell_type": "code",
      "metadata": {
        "id": "CO8W6fe5VXG5",
        "colab_type": "code",
        "colab": {
          "base_uri": "https://localhost:8080/",
          "height": 191
        },
        "outputId": "de82907b-0347-4a14-802e-c6b7968fdda7"
      },
      "source": [
        "df.head()"
      ],
      "execution_count": null,
      "outputs": [
        {
          "output_type": "execute_result",
          "data": {
            "text/html": [
              "<div>\n",
              "<style scoped>\n",
              "    .dataframe tbody tr th:only-of-type {\n",
              "        vertical-align: middle;\n",
              "    }\n",
              "\n",
              "    .dataframe tbody tr th {\n",
              "        vertical-align: top;\n",
              "    }\n",
              "\n",
              "    .dataframe thead th {\n",
              "        text-align: right;\n",
              "    }\n",
              "</style>\n",
              "<table border=\"1\" class=\"dataframe\">\n",
              "  <thead>\n",
              "    <tr style=\"text-align: right;\">\n",
              "      <th></th>\n",
              "      <th>Pregnancies</th>\n",
              "      <th>Glucose</th>\n",
              "      <th>BloodPressure</th>\n",
              "      <th>SkinThickness</th>\n",
              "      <th>Insulin</th>\n",
              "      <th>BMI</th>\n",
              "      <th>DiabetesPedigreeFunction</th>\n",
              "      <th>Age</th>\n",
              "      <th>Outcome</th>\n",
              "    </tr>\n",
              "  </thead>\n",
              "  <tbody>\n",
              "    <tr>\n",
              "      <th>0</th>\n",
              "      <td>6</td>\n",
              "      <td>148</td>\n",
              "      <td>72</td>\n",
              "      <td>35</td>\n",
              "      <td>0</td>\n",
              "      <td>33.6</td>\n",
              "      <td>0.627</td>\n",
              "      <td>50</td>\n",
              "      <td>1</td>\n",
              "    </tr>\n",
              "    <tr>\n",
              "      <th>1</th>\n",
              "      <td>1</td>\n",
              "      <td>85</td>\n",
              "      <td>66</td>\n",
              "      <td>29</td>\n",
              "      <td>0</td>\n",
              "      <td>26.6</td>\n",
              "      <td>0.351</td>\n",
              "      <td>31</td>\n",
              "      <td>0</td>\n",
              "    </tr>\n",
              "    <tr>\n",
              "      <th>2</th>\n",
              "      <td>8</td>\n",
              "      <td>183</td>\n",
              "      <td>64</td>\n",
              "      <td>0</td>\n",
              "      <td>0</td>\n",
              "      <td>23.3</td>\n",
              "      <td>0.672</td>\n",
              "      <td>32</td>\n",
              "      <td>1</td>\n",
              "    </tr>\n",
              "    <tr>\n",
              "      <th>3</th>\n",
              "      <td>1</td>\n",
              "      <td>89</td>\n",
              "      <td>66</td>\n",
              "      <td>23</td>\n",
              "      <td>94</td>\n",
              "      <td>28.1</td>\n",
              "      <td>0.167</td>\n",
              "      <td>21</td>\n",
              "      <td>0</td>\n",
              "    </tr>\n",
              "    <tr>\n",
              "      <th>4</th>\n",
              "      <td>0</td>\n",
              "      <td>137</td>\n",
              "      <td>40</td>\n",
              "      <td>35</td>\n",
              "      <td>168</td>\n",
              "      <td>43.1</td>\n",
              "      <td>2.288</td>\n",
              "      <td>33</td>\n",
              "      <td>1</td>\n",
              "    </tr>\n",
              "  </tbody>\n",
              "</table>\n",
              "</div>"
            ],
            "text/plain": [
              "   Pregnancies  Glucose  BloodPressure  ...  DiabetesPedigreeFunction  Age  Outcome\n",
              "0            6      148             72  ...                     0.627   50        1\n",
              "1            1       85             66  ...                     0.351   31        0\n",
              "2            8      183             64  ...                     0.672   32        1\n",
              "3            1       89             66  ...                     0.167   21        0\n",
              "4            0      137             40  ...                     2.288   33        1\n",
              "\n",
              "[5 rows x 9 columns]"
            ]
          },
          "metadata": {
            "tags": []
          },
          "execution_count": 25
        }
      ]
    },
    {
      "cell_type": "markdown",
      "metadata": {
        "id": "LeasXVLbHvEM",
        "colab_type": "text"
      },
      "source": [
        "##Describing the dataset"
      ]
    },
    {
      "cell_type": "code",
      "metadata": {
        "id": "6l3RLk3NC89Y",
        "colab_type": "code",
        "colab": {
          "base_uri": "https://localhost:8080/",
          "height": 277
        },
        "outputId": "70316e57-8c7c-4abc-a5f1-2be06b209ac8"
      },
      "source": [
        "df.describe()"
      ],
      "execution_count": null,
      "outputs": [
        {
          "output_type": "execute_result",
          "data": {
            "text/html": [
              "<div>\n",
              "<style scoped>\n",
              "    .dataframe tbody tr th:only-of-type {\n",
              "        vertical-align: middle;\n",
              "    }\n",
              "\n",
              "    .dataframe tbody tr th {\n",
              "        vertical-align: top;\n",
              "    }\n",
              "\n",
              "    .dataframe thead th {\n",
              "        text-align: right;\n",
              "    }\n",
              "</style>\n",
              "<table border=\"1\" class=\"dataframe\">\n",
              "  <thead>\n",
              "    <tr style=\"text-align: right;\">\n",
              "      <th></th>\n",
              "      <th>Pregnancies</th>\n",
              "      <th>Glucose</th>\n",
              "      <th>BloodPressure</th>\n",
              "      <th>SkinThickness</th>\n",
              "      <th>Insulin</th>\n",
              "      <th>BMI</th>\n",
              "      <th>DiabetesPedigreeFunction</th>\n",
              "      <th>Age</th>\n",
              "      <th>Outcome</th>\n",
              "    </tr>\n",
              "  </thead>\n",
              "  <tbody>\n",
              "    <tr>\n",
              "      <th>count</th>\n",
              "      <td>768.000000</td>\n",
              "      <td>768.000000</td>\n",
              "      <td>768.000000</td>\n",
              "      <td>768.000000</td>\n",
              "      <td>768.000000</td>\n",
              "      <td>768.000000</td>\n",
              "      <td>768.000000</td>\n",
              "      <td>768.000000</td>\n",
              "      <td>768.000000</td>\n",
              "    </tr>\n",
              "    <tr>\n",
              "      <th>mean</th>\n",
              "      <td>3.845052</td>\n",
              "      <td>120.894531</td>\n",
              "      <td>69.105469</td>\n",
              "      <td>20.536458</td>\n",
              "      <td>79.799479</td>\n",
              "      <td>31.992578</td>\n",
              "      <td>0.471876</td>\n",
              "      <td>33.240885</td>\n",
              "      <td>0.348958</td>\n",
              "    </tr>\n",
              "    <tr>\n",
              "      <th>std</th>\n",
              "      <td>3.369578</td>\n",
              "      <td>31.972618</td>\n",
              "      <td>19.355807</td>\n",
              "      <td>15.952218</td>\n",
              "      <td>115.244002</td>\n",
              "      <td>7.884160</td>\n",
              "      <td>0.331329</td>\n",
              "      <td>11.760232</td>\n",
              "      <td>0.476951</td>\n",
              "    </tr>\n",
              "    <tr>\n",
              "      <th>min</th>\n",
              "      <td>0.000000</td>\n",
              "      <td>0.000000</td>\n",
              "      <td>0.000000</td>\n",
              "      <td>0.000000</td>\n",
              "      <td>0.000000</td>\n",
              "      <td>0.000000</td>\n",
              "      <td>0.078000</td>\n",
              "      <td>21.000000</td>\n",
              "      <td>0.000000</td>\n",
              "    </tr>\n",
              "    <tr>\n",
              "      <th>25%</th>\n",
              "      <td>1.000000</td>\n",
              "      <td>99.000000</td>\n",
              "      <td>62.000000</td>\n",
              "      <td>0.000000</td>\n",
              "      <td>0.000000</td>\n",
              "      <td>27.300000</td>\n",
              "      <td>0.243750</td>\n",
              "      <td>24.000000</td>\n",
              "      <td>0.000000</td>\n",
              "    </tr>\n",
              "    <tr>\n",
              "      <th>50%</th>\n",
              "      <td>3.000000</td>\n",
              "      <td>117.000000</td>\n",
              "      <td>72.000000</td>\n",
              "      <td>23.000000</td>\n",
              "      <td>30.500000</td>\n",
              "      <td>32.000000</td>\n",
              "      <td>0.372500</td>\n",
              "      <td>29.000000</td>\n",
              "      <td>0.000000</td>\n",
              "    </tr>\n",
              "    <tr>\n",
              "      <th>75%</th>\n",
              "      <td>6.000000</td>\n",
              "      <td>140.250000</td>\n",
              "      <td>80.000000</td>\n",
              "      <td>32.000000</td>\n",
              "      <td>127.250000</td>\n",
              "      <td>36.600000</td>\n",
              "      <td>0.626250</td>\n",
              "      <td>41.000000</td>\n",
              "      <td>1.000000</td>\n",
              "    </tr>\n",
              "    <tr>\n",
              "      <th>max</th>\n",
              "      <td>17.000000</td>\n",
              "      <td>199.000000</td>\n",
              "      <td>122.000000</td>\n",
              "      <td>99.000000</td>\n",
              "      <td>846.000000</td>\n",
              "      <td>67.100000</td>\n",
              "      <td>2.420000</td>\n",
              "      <td>81.000000</td>\n",
              "      <td>1.000000</td>\n",
              "    </tr>\n",
              "  </tbody>\n",
              "</table>\n",
              "</div>"
            ],
            "text/plain": [
              "       Pregnancies     Glucose  ...         Age     Outcome\n",
              "count   768.000000  768.000000  ...  768.000000  768.000000\n",
              "mean      3.845052  120.894531  ...   33.240885    0.348958\n",
              "std       3.369578   31.972618  ...   11.760232    0.476951\n",
              "min       0.000000    0.000000  ...   21.000000    0.000000\n",
              "25%       1.000000   99.000000  ...   24.000000    0.000000\n",
              "50%       3.000000  117.000000  ...   29.000000    0.000000\n",
              "75%       6.000000  140.250000  ...   41.000000    1.000000\n",
              "max      17.000000  199.000000  ...   81.000000    1.000000\n",
              "\n",
              "[8 rows x 9 columns]"
            ]
          },
          "metadata": {
            "tags": []
          },
          "execution_count": 18
        }
      ]
    },
    {
      "cell_type": "code",
      "metadata": {
        "id": "7WBvN7-KC_CK",
        "colab_type": "code",
        "colab": {
          "base_uri": "https://localhost:8080/",
          "height": 277
        },
        "outputId": "08fba218-cdcc-4cbb-b630-3602120ac938"
      },
      "source": [
        "df.info()"
      ],
      "execution_count": null,
      "outputs": [
        {
          "output_type": "stream",
          "text": [
            "<class 'pandas.core.frame.DataFrame'>\n",
            "RangeIndex: 768 entries, 0 to 767\n",
            "Data columns (total 9 columns):\n",
            " #   Column                    Non-Null Count  Dtype  \n",
            "---  ------                    --------------  -----  \n",
            " 0   Pregnancies               768 non-null    int64  \n",
            " 1   Glucose                   768 non-null    int64  \n",
            " 2   BloodPressure             768 non-null    int64  \n",
            " 3   SkinThickness             768 non-null    int64  \n",
            " 4   Insulin                   768 non-null    int64  \n",
            " 5   BMI                       768 non-null    float64\n",
            " 6   DiabetesPedigreeFunction  768 non-null    float64\n",
            " 7   Age                       768 non-null    int64  \n",
            " 8   Outcome                   768 non-null    int64  \n",
            "dtypes: float64(2), int64(7)\n",
            "memory usage: 54.1 KB\n"
          ],
          "name": "stdout"
        }
      ]
    },
    {
      "cell_type": "markdown",
      "metadata": {
        "id": "qKmXTtXFHzFo",
        "colab_type": "text"
      },
      "source": [
        "##Correlation Matrix"
      ]
    },
    {
      "cell_type": "code",
      "metadata": {
        "id": "hxgL7-OCDFzp",
        "colab_type": "code",
        "colab": {
          "base_uri": "https://localhost:8080/",
          "height": 732
        },
        "outputId": "32e894c6-de60-4748-e330-64aea4d8301e"
      },
      "source": [
        "import seaborn as sns\n",
        "import matplotlib.pyplot as plt\n",
        "\n",
        "plt.figure(figsize=(10,10))\n",
        "sns.heatmap(df.corr(), annot = True) "
      ],
      "execution_count": null,
      "outputs": [
        {
          "output_type": "execute_result",
          "data": {
            "text/plain": [
              "<matplotlib.axes._subplots.AxesSubplot at 0x7fb433dfaf60>"
            ]
          },
          "metadata": {
            "tags": []
          },
          "execution_count": 20
        },
        {
          "output_type": "display_data",
          "data": {
            "image/png": "[encoded data removed]",
            "text/plain": [
              "<Figure size 720x720 with 2 Axes>"
            ]
          },
          "metadata": {
            "tags": [],
            "needs_background": "light"
          }
        }
      ]
    },
    {
      "cell_type": "markdown",
      "metadata": {
        "id": "eBApqE5OH2xP",
        "colab_type": "text"
      },
      "source": [
        "##Splitting the dataset"
      ]
    },
    {
      "cell_type": "code",
      "metadata": {
        "id": "aE_dOQghb65G",
        "colab_type": "code",
        "colab": {}
      },
      "source": [
        "x_train, x_test, y_train, y_test = train_test_split(x, y, test_size=0.25)"
      ],
      "execution_count": null,
      "outputs": []
    },
    {
      "cell_type": "markdown",
      "metadata": {
        "id": "qDSDoRS8H5gh",
        "colab_type": "text"
      },
      "source": [
        "##Training the dataset"
      ]
    },
    {
      "cell_type": "code",
      "metadata": {
        "id": "W3_JGUs-cVPb",
        "colab_type": "code",
        "colab": {}
      },
      "source": [
        "model = GaussianNB()\n",
        "std_scaler = StandardScaler()\n",
        "\n",
        "x_train = std_scaler.fit_transform(x_train)\n",
        "x_test = std_scaler.transform(x_test)\n",
        "\n",
        "model.fit(x_train,y_train)\n",
        "\n",
        "y_pred = model.predict(x_test)"
      ],
      "execution_count": null,
      "outputs": []
    },
    {
      "cell_type": "markdown",
      "metadata": {
        "id": "mfWggI5EGocG",
        "colab_type": "text"
      },
      "source": [
        "##Output"
      ]
    },
    {
      "cell_type": "code",
      "metadata": {
        "id": "4ALw8HbMcY6f",
        "colab_type": "code",
        "colab": {
          "base_uri": "https://localhost:8080/",
          "height": 50
        },
        "outputId": "3384bb40-e286-4285-a92e-4fe7f38be04a"
      },
      "source": [
        "confusion_matrix(y_test,y_pred)"
      ],
      "execution_count": null,
      "outputs": [
        {
          "output_type": "execute_result",
          "data": {
            "text/plain": [
              "array([[109,  16],\n",
              "       [ 33,  34]])"
            ]
          },
          "metadata": {
            "tags": []
          },
          "execution_count": 23
        }
      ]
    },
    {
      "cell_type": "code",
      "metadata": {
        "id": "D--oz_s0EAs7",
        "colab_type": "code",
        "colab": {
          "base_uri": "https://localhost:8080/",
          "height": 33
        },
        "outputId": "cb73321d-083c-4113-9206-9b853eb8e7c4"
      },
      "source": [
        "print(accuracy_score(y_test, y_pred))"
      ],
      "execution_count": null,
      "outputs": [
        {
          "output_type": "stream",
          "text": [
            "0.7447916666666666\n"
          ],
          "name": "stdout"
        }
      ]
    },
    {
      "cell_type": "markdown",
      "metadata": {
        "id": "slA8-riZZGKp",
        "colab_type": "text"
      },
      "source": [
        "##Modification"
      ]
    },
    {
      "cell_type": "code",
      "metadata": {
        "id": "1VymuJg3aINE",
        "colab_type": "code",
        "colab": {
          "base_uri": "https://localhost:8080/",
          "height": 50
        },
        "outputId": "4362b714-f852-4f33-cc2e-b36ccf60c224"
      },
      "source": [
        "df_all_ones = df[df['Outcome']==1]\n",
        "\n",
        "y2 = df_all_ones['Outcome']\n",
        "x2 = df_all_ones.drop(['Outcome'],axis=1)\n",
        "\n",
        "y_pred2 = model.predict(x2)\n",
        "\n",
        "print(confusion_matrix(y2,y_pred2))\n",
        "print(accuracy_score(y2, y_pred2))\n"
      ],
      "execution_count": null,
      "outputs": [
        {
          "output_type": "stream",
          "text": [
            "[[268]]\n",
            "1.0\n"
          ],
          "name": "stdout"
        }
      ]
    }
  ]
}